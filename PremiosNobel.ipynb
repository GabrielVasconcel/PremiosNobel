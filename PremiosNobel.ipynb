{
  "cells": [
    {
      "cell_type": "markdown",
      "id": "db5bd2ce-918a-4f7d-a927-a3ea74c4b456",
      "metadata": {
        "id": "db5bd2ce-918a-4f7d-a927-a3ea74c4b456"
      },
      "source": [
        "The Nobel Prize has been among the most prestigious international awards since 1901. Each year, awards are bestowed in chemistry, literature, physics, physiology or medicine, economics, and peace. In addition to the honor, prestige, and substantial prize money, the recipient also gets a gold medal with an image of Alfred Nobel (1833 - 1896), who established the prize.\n",
        "\n",
        "![](Nobel_Prize.png)\n",
        "\n",
        "The Nobel Foundation has made a dataset available of all prize winners from the outset of the awards from 1901 to 2023. The dataset used in this project is from the Nobel Prize API and is available in the `nobel.csv` file in the `data` folder.\n",
        "\n",
        "In this project, you'll get a chance to explore and answer several questions related to this prizewinning data. And we encourage you then to explore further questions that you're interested in!"
      ]
    },
    {
      "cell_type": "code",
      "execution_count": 3,
      "id": "11fd5946-7bd1-495c-aa7f-ff6e7e4a350b",
      "metadata": {
        "executionCancelledAt": null,
        "executionTime": 12,
        "id": "11fd5946-7bd1-495c-aa7f-ff6e7e4a350b",
        "lastExecutedAt": 1735415690546,
        "lastExecutedByKernel": "38b08a09-0f17-4d0a-b102-f717b56190c1",
        "lastScheduledRunId": null,
        "lastSuccessfullyExecutedCode": "# Loading in required libraries\nimport pandas as pd\nimport seaborn as sns\nimport numpy as np\n\n# Start coding here!"
      },
      "outputs": [],
      "source": [
        "import pandas as pd\n",
        "import seaborn as sns\n",
        "import numpy as np"
      ]
    },
    {
      "cell_type": "code",
      "execution_count": 4,
      "id": "e715b506-85d0-4c12-a39a-7a6eef673611",
      "metadata": {
        "executionCancelledAt": null,
        "executionTime": 54,
        "id": "e715b506-85d0-4c12-a39a-7a6eef673611",
        "lastExecutedAt": 1735415690600,
        "lastExecutedByKernel": "38b08a09-0f17-4d0a-b102-f717b56190c1",
        "lastScheduledRunId": null,
        "lastSuccessfullyExecutedCode": "df = pd.read_csv('data/nobel.csv')\ndf.head()",
        "outputId": "3e6b855c-4bf8-4904-9bf6-3afbc7253567",
        "outputsMetadata": {
          "0": {
            "height": 550,
            "tableState": {
              "customFilter": {
                "const": {
                  "type": "boolean",
                  "valid": true,
                  "value": true
                },
                "id": "a62ad8b2-6c1a-411d-a739-8d0cd937802d",
                "nodeType": "const"
              },
              "quickFilterText": "",
              "sort": {
                "sortModel": [
                  {
                    "colId": "year",
                    "sort": "desc"
                  }
                ]
              }
            },
            "type": "dataFrame"
          }
        }
      },
      "outputs": [
        {
          "data": {
            "text/html": [
              "<div>\n",
              "<style scoped>\n",
              "    .dataframe tbody tr th:only-of-type {\n",
              "        vertical-align: middle;\n",
              "    }\n",
              "\n",
              "    .dataframe tbody tr th {\n",
              "        vertical-align: top;\n",
              "    }\n",
              "\n",
              "    .dataframe thead th {\n",
              "        text-align: right;\n",
              "    }\n",
              "</style>\n",
              "<table border=\"1\" class=\"dataframe\">\n",
              "  <thead>\n",
              "    <tr style=\"text-align: right;\">\n",
              "      <th></th>\n",
              "      <th>year</th>\n",
              "      <th>category</th>\n",
              "      <th>prize</th>\n",
              "      <th>motivation</th>\n",
              "      <th>prize_share</th>\n",
              "      <th>laureate_id</th>\n",
              "      <th>laureate_type</th>\n",
              "      <th>full_name</th>\n",
              "      <th>birth_date</th>\n",
              "      <th>birth_city</th>\n",
              "      <th>birth_country</th>\n",
              "      <th>sex</th>\n",
              "      <th>organization_name</th>\n",
              "      <th>organization_city</th>\n",
              "      <th>organization_country</th>\n",
              "      <th>death_date</th>\n",
              "      <th>death_city</th>\n",
              "      <th>death_country</th>\n",
              "    </tr>\n",
              "  </thead>\n",
              "  <tbody>\n",
              "    <tr>\n",
              "      <th>0</th>\n",
              "      <td>1901</td>\n",
              "      <td>Chemistry</td>\n",
              "      <td>The Nobel Prize in Chemistry 1901</td>\n",
              "      <td>\"in recognition of the extraordinary services ...</td>\n",
              "      <td>1/1</td>\n",
              "      <td>160</td>\n",
              "      <td>Individual</td>\n",
              "      <td>Jacobus Henricus van 't Hoff</td>\n",
              "      <td>1852-08-30</td>\n",
              "      <td>Rotterdam</td>\n",
              "      <td>Netherlands</td>\n",
              "      <td>Male</td>\n",
              "      <td>Berlin University</td>\n",
              "      <td>Berlin</td>\n",
              "      <td>Germany</td>\n",
              "      <td>1911-03-01</td>\n",
              "      <td>Berlin</td>\n",
              "      <td>Germany</td>\n",
              "    </tr>\n",
              "    <tr>\n",
              "      <th>1</th>\n",
              "      <td>1901</td>\n",
              "      <td>Literature</td>\n",
              "      <td>The Nobel Prize in Literature 1901</td>\n",
              "      <td>\"in special recognition of his poetic composit...</td>\n",
              "      <td>1/1</td>\n",
              "      <td>569</td>\n",
              "      <td>Individual</td>\n",
              "      <td>Sully Prudhomme</td>\n",
              "      <td>1839-03-16</td>\n",
              "      <td>Paris</td>\n",
              "      <td>France</td>\n",
              "      <td>Male</td>\n",
              "      <td>NaN</td>\n",
              "      <td>NaN</td>\n",
              "      <td>NaN</td>\n",
              "      <td>1907-09-07</td>\n",
              "      <td>Châtenay</td>\n",
              "      <td>France</td>\n",
              "    </tr>\n",
              "    <tr>\n",
              "      <th>2</th>\n",
              "      <td>1901</td>\n",
              "      <td>Medicine</td>\n",
              "      <td>The Nobel Prize in Physiology or Medicine 1901</td>\n",
              "      <td>\"for his work on serum therapy, especially its...</td>\n",
              "      <td>1/1</td>\n",
              "      <td>293</td>\n",
              "      <td>Individual</td>\n",
              "      <td>Emil Adolf von Behring</td>\n",
              "      <td>1854-03-15</td>\n",
              "      <td>Hansdorf (Lawice)</td>\n",
              "      <td>Prussia (Poland)</td>\n",
              "      <td>Male</td>\n",
              "      <td>Marburg University</td>\n",
              "      <td>Marburg</td>\n",
              "      <td>Germany</td>\n",
              "      <td>1917-03-31</td>\n",
              "      <td>Marburg</td>\n",
              "      <td>Germany</td>\n",
              "    </tr>\n",
              "    <tr>\n",
              "      <th>3</th>\n",
              "      <td>1901</td>\n",
              "      <td>Peace</td>\n",
              "      <td>The Nobel Peace Prize 1901</td>\n",
              "      <td>NaN</td>\n",
              "      <td>1/2</td>\n",
              "      <td>462</td>\n",
              "      <td>Individual</td>\n",
              "      <td>Jean Henry Dunant</td>\n",
              "      <td>1828-05-08</td>\n",
              "      <td>Geneva</td>\n",
              "      <td>Switzerland</td>\n",
              "      <td>Male</td>\n",
              "      <td>NaN</td>\n",
              "      <td>NaN</td>\n",
              "      <td>NaN</td>\n",
              "      <td>1910-10-30</td>\n",
              "      <td>Heiden</td>\n",
              "      <td>Switzerland</td>\n",
              "    </tr>\n",
              "    <tr>\n",
              "      <th>4</th>\n",
              "      <td>1901</td>\n",
              "      <td>Peace</td>\n",
              "      <td>The Nobel Peace Prize 1901</td>\n",
              "      <td>NaN</td>\n",
              "      <td>1/2</td>\n",
              "      <td>463</td>\n",
              "      <td>Individual</td>\n",
              "      <td>Frédéric Passy</td>\n",
              "      <td>1822-05-20</td>\n",
              "      <td>Paris</td>\n",
              "      <td>France</td>\n",
              "      <td>Male</td>\n",
              "      <td>NaN</td>\n",
              "      <td>NaN</td>\n",
              "      <td>NaN</td>\n",
              "      <td>1912-06-12</td>\n",
              "      <td>Paris</td>\n",
              "      <td>France</td>\n",
              "    </tr>\n",
              "  </tbody>\n",
              "</table>\n",
              "</div>"
            ],
            "text/plain": [
              "   year    category                                           prize  \\\n",
              "0  1901   Chemistry               The Nobel Prize in Chemistry 1901   \n",
              "1  1901  Literature              The Nobel Prize in Literature 1901   \n",
              "2  1901    Medicine  The Nobel Prize in Physiology or Medicine 1901   \n",
              "3  1901       Peace                      The Nobel Peace Prize 1901   \n",
              "4  1901       Peace                      The Nobel Peace Prize 1901   \n",
              "\n",
              "                                          motivation prize_share  laureate_id  \\\n",
              "0  \"in recognition of the extraordinary services ...         1/1          160   \n",
              "1  \"in special recognition of his poetic composit...         1/1          569   \n",
              "2  \"for his work on serum therapy, especially its...         1/1          293   \n",
              "3                                                NaN         1/2          462   \n",
              "4                                                NaN         1/2          463   \n",
              "\n",
              "  laureate_type                     full_name  birth_date         birth_city  \\\n",
              "0    Individual  Jacobus Henricus van 't Hoff  1852-08-30          Rotterdam   \n",
              "1    Individual               Sully Prudhomme  1839-03-16              Paris   \n",
              "2    Individual        Emil Adolf von Behring  1854-03-15  Hansdorf (Lawice)   \n",
              "3    Individual             Jean Henry Dunant  1828-05-08             Geneva   \n",
              "4    Individual                Frédéric Passy  1822-05-20              Paris   \n",
              "\n",
              "      birth_country   sex   organization_name organization_city  \\\n",
              "0       Netherlands  Male   Berlin University            Berlin   \n",
              "1            France  Male                 NaN               NaN   \n",
              "2  Prussia (Poland)  Male  Marburg University           Marburg   \n",
              "3       Switzerland  Male                 NaN               NaN   \n",
              "4            France  Male                 NaN               NaN   \n",
              "\n",
              "  organization_country  death_date death_city death_country  \n",
              "0              Germany  1911-03-01     Berlin       Germany  \n",
              "1                  NaN  1907-09-07   Châtenay        France  \n",
              "2              Germany  1917-03-31    Marburg       Germany  \n",
              "3                  NaN  1910-10-30     Heiden   Switzerland  \n",
              "4                  NaN  1912-06-12      Paris        France  "
            ]
          },
          "execution_count": 4,
          "metadata": {},
          "output_type": "execute_result"
        }
      ],
      "source": [
        "df = pd.read_csv('nobel.csv')\n",
        "df.head()"
      ]
    },
    {
      "cell_type": "markdown",
      "id": "ef3697d5",
      "metadata": {},
      "source": [
        "Achando gênero mais comum"
      ]
    },
    {
      "cell_type": "code",
      "execution_count": 5,
      "id": "fd125301-6401-487d-a1cf-6299492151ef",
      "metadata": {
        "executionCancelledAt": null,
        "executionTime": 58,
        "id": "fd125301-6401-487d-a1cf-6299492151ef",
        "lastExecutedAt": 1735415690658,
        "lastExecutedByKernel": "38b08a09-0f17-4d0a-b102-f717b56190c1",
        "lastScheduledRunId": null,
        "lastSuccessfullyExecutedCode": "top_gender = df['sex'].value_counts().index[0]\ntop_gender",
        "outputId": "b1963a15-3d44-42ed-e3bc-e7a2c384d211",
        "outputsMetadata": {
          "0": {
            "height": 500,
            "tableState": {
              "quickFilterText": ""
            },
            "type": "dataFrame"
          }
        }
      },
      "outputs": [
        {
          "data": {
            "text/plain": [
              "'Male'"
            ]
          },
          "execution_count": 5,
          "metadata": {},
          "output_type": "execute_result"
        }
      ],
      "source": [
        "top_gender = df['sex'].value_counts().index[0]\n",
        "top_gender"
      ]
    },
    {
      "cell_type": "markdown",
      "id": "e0997e2a",
      "metadata": {},
      "source": [
        "Achando país mais comum"
      ]
    },
    {
      "cell_type": "code",
      "execution_count": 6,
      "id": "15fd7bd1-7522-4121-997a-71b95cf68611",
      "metadata": {
        "executionCancelledAt": null,
        "executionTime": 49,
        "id": "15fd7bd1-7522-4121-997a-71b95cf68611",
        "lastExecutedAt": 1735415690707,
        "lastExecutedByKernel": "38b08a09-0f17-4d0a-b102-f717b56190c1",
        "lastScheduledRunId": null,
        "lastSuccessfullyExecutedCode": "top_country = df['birth_country'].value_counts().index[0]\ntop_country",
        "outputId": "3b4c438b-160c-4fd9-a057-23d5a0f78584",
        "outputsMetadata": {
          "0": {
            "height": 500,
            "tableState": {
              "quickFilterText": ""
            },
            "type": "dataFrame"
          }
        }
      },
      "outputs": [
        {
          "data": {
            "text/plain": [
              "'United States of America'"
            ]
          },
          "execution_count": 6,
          "metadata": {},
          "output_type": "execute_result"
        }
      ],
      "source": [
        "top_country = df['birth_country'].value_counts().index[0]\n",
        "top_country"
      ]
    },
    {
      "cell_type": "markdown",
      "id": "11e5364b",
      "metadata": {},
      "source": [
        "Criando coluna 'decade' a partir de 'year' para uso em consulta"
      ]
    },
    {
      "cell_type": "code",
      "execution_count": 7,
      "id": "72d75ec8-06b4-4c13-8137-b8d1ff894f79",
      "metadata": {
        "executionCancelledAt": null,
        "executionTime": 53,
        "id": "72d75ec8-06b4-4c13-8137-b8d1ff894f79",
        "jupyter": {
          "outputs_hidden": true,
          "source_hidden": false
        },
        "lastExecutedAt": 1735415690760,
        "lastExecutedByKernel": "38b08a09-0f17-4d0a-b102-f717b56190c1",
        "lastScheduledRunId": null,
        "lastSuccessfullyExecutedCode": "df['decade'] = pd.cut(df['year'], bins = np.arange(1900,2031,10), labels = np.arange(1900,2030,10), right =False)\ndf[['year', 'decade']]",
        "outputId": "06e9b7ce-2014-4039-f6b5-2c546b507b74",
        "outputsMetadata": {
          "0": {
            "height": 550,
            "tableState": {
              "quickFilterText": "",
              "sort": {
                "sortModel": [
                  {
                    "colId": "decade",
                    "sort": "desc"
                  }
                ]
              }
            },
            "type": "dataFrame"
          }
        }
      },
      "outputs": [
        {
          "data": {
            "text/html": [
              "<div>\n",
              "<style scoped>\n",
              "    .dataframe tbody tr th:only-of-type {\n",
              "        vertical-align: middle;\n",
              "    }\n",
              "\n",
              "    .dataframe tbody tr th {\n",
              "        vertical-align: top;\n",
              "    }\n",
              "\n",
              "    .dataframe thead th {\n",
              "        text-align: right;\n",
              "    }\n",
              "</style>\n",
              "<table border=\"1\" class=\"dataframe\">\n",
              "  <thead>\n",
              "    <tr style=\"text-align: right;\">\n",
              "      <th></th>\n",
              "      <th>year</th>\n",
              "      <th>decade</th>\n",
              "    </tr>\n",
              "  </thead>\n",
              "  <tbody>\n",
              "    <tr>\n",
              "      <th>0</th>\n",
              "      <td>1901</td>\n",
              "      <td>1900</td>\n",
              "    </tr>\n",
              "    <tr>\n",
              "      <th>1</th>\n",
              "      <td>1901</td>\n",
              "      <td>1900</td>\n",
              "    </tr>\n",
              "    <tr>\n",
              "      <th>2</th>\n",
              "      <td>1901</td>\n",
              "      <td>1900</td>\n",
              "    </tr>\n",
              "    <tr>\n",
              "      <th>3</th>\n",
              "      <td>1901</td>\n",
              "      <td>1900</td>\n",
              "    </tr>\n",
              "    <tr>\n",
              "      <th>4</th>\n",
              "      <td>1901</td>\n",
              "      <td>1900</td>\n",
              "    </tr>\n",
              "    <tr>\n",
              "      <th>...</th>\n",
              "      <td>...</td>\n",
              "      <td>...</td>\n",
              "    </tr>\n",
              "    <tr>\n",
              "      <th>995</th>\n",
              "      <td>2023</td>\n",
              "      <td>2020</td>\n",
              "    </tr>\n",
              "    <tr>\n",
              "      <th>996</th>\n",
              "      <td>2023</td>\n",
              "      <td>2020</td>\n",
              "    </tr>\n",
              "    <tr>\n",
              "      <th>997</th>\n",
              "      <td>2023</td>\n",
              "      <td>2020</td>\n",
              "    </tr>\n",
              "    <tr>\n",
              "      <th>998</th>\n",
              "      <td>2023</td>\n",
              "      <td>2020</td>\n",
              "    </tr>\n",
              "    <tr>\n",
              "      <th>999</th>\n",
              "      <td>2023</td>\n",
              "      <td>2020</td>\n",
              "    </tr>\n",
              "  </tbody>\n",
              "</table>\n",
              "<p>1000 rows × 2 columns</p>\n",
              "</div>"
            ],
            "text/plain": [
              "     year decade\n",
              "0    1901   1900\n",
              "1    1901   1900\n",
              "2    1901   1900\n",
              "3    1901   1900\n",
              "4    1901   1900\n",
              "..    ...    ...\n",
              "995  2023   2020\n",
              "996  2023   2020\n",
              "997  2023   2020\n",
              "998  2023   2020\n",
              "999  2023   2020\n",
              "\n",
              "[1000 rows x 2 columns]"
            ]
          },
          "execution_count": 7,
          "metadata": {},
          "output_type": "execute_result"
        }
      ],
      "source": [
        "df['decade'] = pd.cut(df['year'], bins = np.arange(1900,2031,10), labels = np.arange(1900,2030,10), right =False)\n",
        "df[['year', 'decade']]"
      ]
    },
    {
      "cell_type": "code",
      "execution_count": 8,
      "id": "097a933f-f049-4881-a6a0-3dd56fb5a0d4",
      "metadata": {
        "executionCancelledAt": null,
        "executionTime": 52,
        "id": "097a933f-f049-4881-a6a0-3dd56fb5a0d4",
        "lastExecutedAt": 1735415690812,
        "lastExecutedByKernel": "38b08a09-0f17-4d0a-b102-f717b56190c1",
        "lastScheduledRunId": null,
        "lastSuccessfullyExecutedCode": "prop_per_decade = df.groupby('decade')[['birth_country']].value_counts(normalize= True)\nprop_per_decade.head()",
        "outputId": "ae6c7723-2add-4b74-f98a-3ba9aee86770",
        "outputsMetadata": {
          "0": {
            "height": 550,
            "tableState": {
              "customFilter": {
                "const": {
                  "type": "boolean",
                  "valid": true,
                  "value": true
                },
                "id": "a62ad8b2-6c1a-411d-a739-8d0cd937802d",
                "nodeType": "const"
              },
              "quickFilterText": ""
            },
            "type": "dataFrame"
          }
        }
      },
      "outputs": [
        {
          "name": "stderr",
          "output_type": "stream",
          "text": [
            "C:\\Users\\Usuário\\AppData\\Local\\Temp\\ipykernel_21412\\1965601341.py:1: FutureWarning: The default of observed=False is deprecated and will be changed to True in a future version of pandas. Pass observed=False to retain current behavior or observed=True to adopt the future default and silence this warning.\n",
            "  prop_per_decade = df.groupby('decade')[['birth_country']].value_counts(normalize= True)\n"
          ]
        },
        {
          "data": {
            "text/plain": [
              "decade  birth_country    \n",
              "1900    France               0.160714\n",
              "        Switzerland          0.071429\n",
              "        Prussia (Germany)    0.053571\n",
              "        Prussia (Poland)     0.053571\n",
              "        Netherlands          0.053571\n",
              "Name: proportion, dtype: float64"
            ]
          },
          "execution_count": 8,
          "metadata": {},
          "output_type": "execute_result"
        }
      ],
      "source": [
        "prop_per_decade = df.groupby('decade')[['birth_country']].value_counts(normalize= True)\n",
        "prop_per_decade.head()"
      ]
    },
    {
      "cell_type": "markdown",
      "id": "1d0cb4ab",
      "metadata": {},
      "source": [
        "Década com maior proporção de vencedores dos Estados Unidos"
      ]
    },
    {
      "cell_type": "code",
      "execution_count": 9,
      "id": "48746864-e599-4287-a7c8-8b3fe29c2167",
      "metadata": {
        "executionCancelledAt": null,
        "executionTime": 56,
        "id": "48746864-e599-4287-a7c8-8b3fe29c2167",
        "lastExecutedAt": 1735415690868,
        "lastExecutedByKernel": "38b08a09-0f17-4d0a-b102-f717b56190c1",
        "lastScheduledRunId": null,
        "lastSuccessfullyExecutedCode": "max_decade_usa = prop_per_decade.loc[:, 'United States of America'].sort_values(ascending=False).index[0]\nmax_decade_usa\n",
        "outputId": "35a2a81e-f9d3-4adb-a74e-b5a4186fcf69",
        "outputsMetadata": {
          "0": {
            "height": 461,
            "tableState": {
              "quickFilterText": ""
            },
            "type": "dataFrame"
          }
        }
      },
      "outputs": [
        {
          "data": {
            "text/plain": [
              "2000"
            ]
          },
          "execution_count": 9,
          "metadata": {},
          "output_type": "execute_result"
        }
      ],
      "source": [
        "max_decade_usa = prop_per_decade.loc[:, 'United States of America'].sort_values(ascending=False).index[0]\n",
        "max_decade_usa\n"
      ]
    },
    {
      "cell_type": "markdown",
      "id": "46a8e70f",
      "metadata": {},
      "source": [
        "Combinação de década e categoria com mais mulheres laureadas"
      ]
    },
    {
      "cell_type": "code",
      "execution_count": 10,
      "id": "93c61625-6c94-4682-8da0-e0621c1964a2",
      "metadata": {
        "executionCancelledAt": null,
        "executionTime": 55,
        "id": "93c61625-6c94-4682-8da0-e0621c1964a2",
        "lastExecutedAt": 1735415690923,
        "lastExecutedByKernel": "38b08a09-0f17-4d0a-b102-f717b56190c1",
        "lastScheduledRunId": null,
        "lastSuccessfullyExecutedCode": "decade_category_sex_prop = df.groupby(['decade', 'category'])[['sex']].value_counts(normalize= True)\ndecade_category_sex_prop= decade_category_sex_prop.loc[:,:,'Female'].sort_values(ascending=False).head()\ndecade_category_sex_prop=decade_category_sex_prop.reset_index(name='proportion').sort_values(['proportion', 'category'], ascending = [False, True])\ndecade_category_sex_prop",
        "outputId": "6c338e25-a483-43c8-c03b-65060e56c6cd",
        "outputsMetadata": {
          "0": {
            "height": 550,
            "tableState": {
              "customFilter": {
                "const": {
                  "type": "boolean",
                  "valid": true,
                  "value": true
                },
                "id": "a62ad8b2-6c1a-411d-a739-8d0cd937802d",
                "nodeType": "const"
              },
              "quickFilterText": ""
            },
            "type": "dataFrame"
          }
        }
      },
      "outputs": [
        {
          "name": "stderr",
          "output_type": "stream",
          "text": [
            "C:\\Users\\Usuário\\AppData\\Local\\Temp\\ipykernel_21412\\3199986291.py:1: FutureWarning: The default of observed=False is deprecated and will be changed to True in a future version of pandas. Pass observed=False to retain current behavior or observed=True to adopt the future default and silence this warning.\n",
            "  decade_category_sex_prop = df.groupby(['decade', 'category'])[['sex']].value_counts(normalize= True)\n"
          ]
        },
        {
          "data": {
            "text/html": [
              "<div>\n",
              "<style scoped>\n",
              "    .dataframe tbody tr th:only-of-type {\n",
              "        vertical-align: middle;\n",
              "    }\n",
              "\n",
              "    .dataframe tbody tr th {\n",
              "        vertical-align: top;\n",
              "    }\n",
              "\n",
              "    .dataframe thead th {\n",
              "        text-align: right;\n",
              "    }\n",
              "</style>\n",
              "<table border=\"1\" class=\"dataframe\">\n",
              "  <thead>\n",
              "    <tr style=\"text-align: right;\">\n",
              "      <th></th>\n",
              "      <th>decade</th>\n",
              "      <th>category</th>\n",
              "      <th>proportion</th>\n",
              "    </tr>\n",
              "  </thead>\n",
              "  <tbody>\n",
              "    <tr>\n",
              "      <th>1</th>\n",
              "      <td>2020</td>\n",
              "      <td>Literature</td>\n",
              "      <td>0.5</td>\n",
              "    </tr>\n",
              "    <tr>\n",
              "      <th>0</th>\n",
              "      <td>2020</td>\n",
              "      <td>Peace</td>\n",
              "      <td>0.5</td>\n",
              "    </tr>\n",
              "    <tr>\n",
              "      <th>2</th>\n",
              "      <td>2010</td>\n",
              "      <td>Peace</td>\n",
              "      <td>0.5</td>\n",
              "    </tr>\n",
              "    <tr>\n",
              "      <th>3</th>\n",
              "      <td>1990</td>\n",
              "      <td>Literature</td>\n",
              "      <td>0.3</td>\n",
              "    </tr>\n",
              "    <tr>\n",
              "      <th>4</th>\n",
              "      <td>2000</td>\n",
              "      <td>Literature</td>\n",
              "      <td>0.3</td>\n",
              "    </tr>\n",
              "  </tbody>\n",
              "</table>\n",
              "</div>"
            ],
            "text/plain": [
              "  decade    category  proportion\n",
              "1   2020  Literature         0.5\n",
              "0   2020       Peace         0.5\n",
              "2   2010       Peace         0.5\n",
              "3   1990  Literature         0.3\n",
              "4   2000  Literature         0.3"
            ]
          },
          "execution_count": 10,
          "metadata": {},
          "output_type": "execute_result"
        }
      ],
      "source": [
        "decade_category_sex_prop = df.groupby(['decade', 'category'])[['sex']].value_counts(normalize= True)\n",
        "decade_category_sex_prop= decade_category_sex_prop.loc[:,:,'Female'].sort_values(ascending=False).head()\n",
        "decade_category_sex_prop=decade_category_sex_prop.reset_index(name='proportion').sort_values(['proportion', 'category'], ascending = [False, True])\n",
        "decade_category_sex_prop"
      ]
    },
    {
      "cell_type": "code",
      "execution_count": 11,
      "id": "e86b7fd4-9774-48e1-8f84-9f736aa29d7f",
      "metadata": {
        "executionCancelledAt": null,
        "executionTime": 57,
        "id": "e86b7fd4-9774-48e1-8f84-9f736aa29d7f",
        "lastExecutedAt": 1735415690980,
        "lastExecutedByKernel": "38b08a09-0f17-4d0a-b102-f717b56190c1",
        "lastScheduledRunId": null,
        "lastSuccessfullyExecutedCode": "decade_category_sex_prop[['decade', 'category']].iloc[0][0]",
        "outputId": "9b3ac55e-89cc-420d-81d1-8be60772d79b",
        "outputsMetadata": {
          "0": {
            "height": 500,
            "tableState": {
              "quickFilterText": ""
            },
            "type": "dataFrame"
          }
        }
      },
      "outputs": [
        {
          "name": "stderr",
          "output_type": "stream",
          "text": [
            "C:\\Users\\Usuário\\AppData\\Local\\Temp\\ipykernel_21412\\1866930494.py:1: FutureWarning: Series.__getitem__ treating keys as positions is deprecated. In a future version, integer keys will always be treated as labels (consistent with DataFrame behavior). To access a value by position, use `ser.iloc[pos]`\n",
            "  decade_category_sex_prop[['decade', 'category']].iloc[0][0]\n"
          ]
        },
        {
          "data": {
            "text/plain": [
              "2020"
            ]
          },
          "execution_count": 11,
          "metadata": {},
          "output_type": "execute_result"
        }
      ],
      "source": [
        "decade_category_sex_prop[['decade', 'category']].iloc[0][0]"
      ]
    },
    {
      "cell_type": "code",
      "execution_count": 12,
      "id": "d8af327a-1a4c-4f96-bdfe-5f0614a9b970",
      "metadata": {
        "executionCancelledAt": null,
        "executionTime": 53,
        "id": "d8af327a-1a4c-4f96-bdfe-5f0614a9b970",
        "lastExecutedAt": 1735415691033,
        "lastExecutedByKernel": "38b08a09-0f17-4d0a-b102-f717b56190c1",
        "lastScheduledRunId": null,
        "lastSuccessfullyExecutedCode": "max_female_dict = {}\nmax_female_dict[decade_category_sex_prop[['decade', 'category']].iloc[0][0]] = decade_category_sex_prop[['decade', 'category']].iloc[0][1]\nmax_female_dict",
        "outputId": "61494f6b-7829-4048-cde9-4987f49b1760"
      },
      "outputs": [
        {
          "name": "stderr",
          "output_type": "stream",
          "text": [
            "C:\\Users\\Usuário\\AppData\\Local\\Temp\\ipykernel_21412\\2108064289.py:2: FutureWarning: Series.__getitem__ treating keys as positions is deprecated. In a future version, integer keys will always be treated as labels (consistent with DataFrame behavior). To access a value by position, use `ser.iloc[pos]`\n",
            "  max_female_dict[decade_category_sex_prop[['decade', 'category']].iloc[0][0]] = decade_category_sex_prop[['decade', 'category']].iloc[0][1]\n",
            "C:\\Users\\Usuário\\AppData\\Local\\Temp\\ipykernel_21412\\2108064289.py:2: FutureWarning: Series.__getitem__ treating keys as positions is deprecated. In a future version, integer keys will always be treated as labels (consistent with DataFrame behavior). To access a value by position, use `ser.iloc[pos]`\n",
            "  max_female_dict[decade_category_sex_prop[['decade', 'category']].iloc[0][0]] = decade_category_sex_prop[['decade', 'category']].iloc[0][1]\n"
          ]
        },
        {
          "data": {
            "text/plain": [
              "{2020: 'Literature'}"
            ]
          },
          "execution_count": 12,
          "metadata": {},
          "output_type": "execute_result"
        }
      ],
      "source": [
        "max_female_dict = {}\n",
        "max_female_dict[decade_category_sex_prop[['decade', 'category']].iloc[0][0]] = decade_category_sex_prop[['decade', 'category']].iloc[0][1]\n",
        "max_female_dict"
      ]
    },
    {
      "cell_type": "markdown",
      "id": "2fac0021",
      "metadata": {},
      "source": [
        "Primeira mulher vencedora do prêmio"
      ]
    },
    {
      "cell_type": "code",
      "execution_count": 13,
      "id": "b2b5d1fe-66b8-43d3-909f-0fce29c38202",
      "metadata": {
        "executionCancelledAt": null,
        "executionTime": 54,
        "id": "b2b5d1fe-66b8-43d3-909f-0fce29c38202",
        "lastExecutedAt": 1735415691087,
        "lastExecutedByKernel": "38b08a09-0f17-4d0a-b102-f717b56190c1",
        "lastScheduledRunId": null,
        "lastSuccessfullyExecutedCode": "first_woman = (df.sort_values('year').query('sex == \"Female\"').iloc[0])[['full_name', 'category']]\nfirst_woman_name = first_woman[0]\nfirst_woman_category = first_woman[1]\nfirst_woman_name, first_woman_category",
        "outputId": "c895ae86-4afd-424f-e23c-1ac6f2791bb0",
        "outputsMetadata": {
          "0": {
            "height": 82,
            "tableState": {
              "quickFilterText": ""
            },
            "type": "dataFrame"
          }
        }
      },
      "outputs": [
        {
          "name": "stderr",
          "output_type": "stream",
          "text": [
            "C:\\Users\\Usuário\\AppData\\Local\\Temp\\ipykernel_21412\\1178074245.py:2: FutureWarning: Series.__getitem__ treating keys as positions is deprecated. In a future version, integer keys will always be treated as labels (consistent with DataFrame behavior). To access a value by position, use `ser.iloc[pos]`\n",
            "  first_woman_name = first_woman[0]\n",
            "C:\\Users\\Usuário\\AppData\\Local\\Temp\\ipykernel_21412\\1178074245.py:3: FutureWarning: Series.__getitem__ treating keys as positions is deprecated. In a future version, integer keys will always be treated as labels (consistent with DataFrame behavior). To access a value by position, use `ser.iloc[pos]`\n",
            "  first_woman_category = first_woman[1]\n"
          ]
        },
        {
          "data": {
            "text/plain": [
              "('Marie Curie, née Sklodowska', 'Physics')"
            ]
          },
          "execution_count": 13,
          "metadata": {},
          "output_type": "execute_result"
        }
      ],
      "source": [
        "first_woman = (df.sort_values('year').query('sex == \"Female\"').iloc[0])[['full_name', 'category']]\n",
        "first_woman_name = first_woman[0]\n",
        "first_woman_category = first_woman[1]\n",
        "first_woman_name, first_woman_category"
      ]
    },
    {
      "cell_type": "code",
      "execution_count": 14,
      "id": "ccd549ad-f8a8-4520-87c6-8b8cb6dd4f51",
      "metadata": {
        "executionCancelledAt": null,
        "executionTime": 64,
        "id": "ccd549ad-f8a8-4520-87c6-8b8cb6dd4f51",
        "lastExecutedAt": 1735415691151,
        "lastExecutedByKernel": "38b08a09-0f17-4d0a-b102-f717b56190c1",
        "lastScheduledRunId": null,
        "lastSuccessfullyExecutedCode": "df.head()",
        "outputId": "4b80ed80-bfd7-4c58-89ef-df68552f247e",
        "outputsMetadata": {
          "0": {
            "height": 550,
            "tableState": {
              "customFilter": {
                "const": {
                  "type": "boolean",
                  "valid": true,
                  "value": true
                },
                "id": "a62ad8b2-6c1a-411d-a739-8d0cd937802d",
                "nodeType": "const"
              },
              "quickFilterText": ""
            },
            "type": "dataFrame"
          }
        }
      },
      "outputs": [
        {
          "data": {
            "text/html": [
              "<div>\n",
              "<style scoped>\n",
              "    .dataframe tbody tr th:only-of-type {\n",
              "        vertical-align: middle;\n",
              "    }\n",
              "\n",
              "    .dataframe tbody tr th {\n",
              "        vertical-align: top;\n",
              "    }\n",
              "\n",
              "    .dataframe thead th {\n",
              "        text-align: right;\n",
              "    }\n",
              "</style>\n",
              "<table border=\"1\" class=\"dataframe\">\n",
              "  <thead>\n",
              "    <tr style=\"text-align: right;\">\n",
              "      <th></th>\n",
              "      <th>year</th>\n",
              "      <th>category</th>\n",
              "      <th>prize</th>\n",
              "      <th>motivation</th>\n",
              "      <th>prize_share</th>\n",
              "      <th>laureate_id</th>\n",
              "      <th>laureate_type</th>\n",
              "      <th>full_name</th>\n",
              "      <th>birth_date</th>\n",
              "      <th>birth_city</th>\n",
              "      <th>birth_country</th>\n",
              "      <th>sex</th>\n",
              "      <th>organization_name</th>\n",
              "      <th>organization_city</th>\n",
              "      <th>organization_country</th>\n",
              "      <th>death_date</th>\n",
              "      <th>death_city</th>\n",
              "      <th>death_country</th>\n",
              "      <th>decade</th>\n",
              "    </tr>\n",
              "  </thead>\n",
              "  <tbody>\n",
              "    <tr>\n",
              "      <th>0</th>\n",
              "      <td>1901</td>\n",
              "      <td>Chemistry</td>\n",
              "      <td>The Nobel Prize in Chemistry 1901</td>\n",
              "      <td>\"in recognition of the extraordinary services ...</td>\n",
              "      <td>1/1</td>\n",
              "      <td>160</td>\n",
              "      <td>Individual</td>\n",
              "      <td>Jacobus Henricus van 't Hoff</td>\n",
              "      <td>1852-08-30</td>\n",
              "      <td>Rotterdam</td>\n",
              "      <td>Netherlands</td>\n",
              "      <td>Male</td>\n",
              "      <td>Berlin University</td>\n",
              "      <td>Berlin</td>\n",
              "      <td>Germany</td>\n",
              "      <td>1911-03-01</td>\n",
              "      <td>Berlin</td>\n",
              "      <td>Germany</td>\n",
              "      <td>1900</td>\n",
              "    </tr>\n",
              "    <tr>\n",
              "      <th>1</th>\n",
              "      <td>1901</td>\n",
              "      <td>Literature</td>\n",
              "      <td>The Nobel Prize in Literature 1901</td>\n",
              "      <td>\"in special recognition of his poetic composit...</td>\n",
              "      <td>1/1</td>\n",
              "      <td>569</td>\n",
              "      <td>Individual</td>\n",
              "      <td>Sully Prudhomme</td>\n",
              "      <td>1839-03-16</td>\n",
              "      <td>Paris</td>\n",
              "      <td>France</td>\n",
              "      <td>Male</td>\n",
              "      <td>NaN</td>\n",
              "      <td>NaN</td>\n",
              "      <td>NaN</td>\n",
              "      <td>1907-09-07</td>\n",
              "      <td>Châtenay</td>\n",
              "      <td>France</td>\n",
              "      <td>1900</td>\n",
              "    </tr>\n",
              "    <tr>\n",
              "      <th>2</th>\n",
              "      <td>1901</td>\n",
              "      <td>Medicine</td>\n",
              "      <td>The Nobel Prize in Physiology or Medicine 1901</td>\n",
              "      <td>\"for his work on serum therapy, especially its...</td>\n",
              "      <td>1/1</td>\n",
              "      <td>293</td>\n",
              "      <td>Individual</td>\n",
              "      <td>Emil Adolf von Behring</td>\n",
              "      <td>1854-03-15</td>\n",
              "      <td>Hansdorf (Lawice)</td>\n",
              "      <td>Prussia (Poland)</td>\n",
              "      <td>Male</td>\n",
              "      <td>Marburg University</td>\n",
              "      <td>Marburg</td>\n",
              "      <td>Germany</td>\n",
              "      <td>1917-03-31</td>\n",
              "      <td>Marburg</td>\n",
              "      <td>Germany</td>\n",
              "      <td>1900</td>\n",
              "    </tr>\n",
              "    <tr>\n",
              "      <th>3</th>\n",
              "      <td>1901</td>\n",
              "      <td>Peace</td>\n",
              "      <td>The Nobel Peace Prize 1901</td>\n",
              "      <td>NaN</td>\n",
              "      <td>1/2</td>\n",
              "      <td>462</td>\n",
              "      <td>Individual</td>\n",
              "      <td>Jean Henry Dunant</td>\n",
              "      <td>1828-05-08</td>\n",
              "      <td>Geneva</td>\n",
              "      <td>Switzerland</td>\n",
              "      <td>Male</td>\n",
              "      <td>NaN</td>\n",
              "      <td>NaN</td>\n",
              "      <td>NaN</td>\n",
              "      <td>1910-10-30</td>\n",
              "      <td>Heiden</td>\n",
              "      <td>Switzerland</td>\n",
              "      <td>1900</td>\n",
              "    </tr>\n",
              "    <tr>\n",
              "      <th>4</th>\n",
              "      <td>1901</td>\n",
              "      <td>Peace</td>\n",
              "      <td>The Nobel Peace Prize 1901</td>\n",
              "      <td>NaN</td>\n",
              "      <td>1/2</td>\n",
              "      <td>463</td>\n",
              "      <td>Individual</td>\n",
              "      <td>Frédéric Passy</td>\n",
              "      <td>1822-05-20</td>\n",
              "      <td>Paris</td>\n",
              "      <td>France</td>\n",
              "      <td>Male</td>\n",
              "      <td>NaN</td>\n",
              "      <td>NaN</td>\n",
              "      <td>NaN</td>\n",
              "      <td>1912-06-12</td>\n",
              "      <td>Paris</td>\n",
              "      <td>France</td>\n",
              "      <td>1900</td>\n",
              "    </tr>\n",
              "  </tbody>\n",
              "</table>\n",
              "</div>"
            ],
            "text/plain": [
              "   year    category                                           prize  \\\n",
              "0  1901   Chemistry               The Nobel Prize in Chemistry 1901   \n",
              "1  1901  Literature              The Nobel Prize in Literature 1901   \n",
              "2  1901    Medicine  The Nobel Prize in Physiology or Medicine 1901   \n",
              "3  1901       Peace                      The Nobel Peace Prize 1901   \n",
              "4  1901       Peace                      The Nobel Peace Prize 1901   \n",
              "\n",
              "                                          motivation prize_share  laureate_id  \\\n",
              "0  \"in recognition of the extraordinary services ...         1/1          160   \n",
              "1  \"in special recognition of his poetic composit...         1/1          569   \n",
              "2  \"for his work on serum therapy, especially its...         1/1          293   \n",
              "3                                                NaN         1/2          462   \n",
              "4                                                NaN         1/2          463   \n",
              "\n",
              "  laureate_type                     full_name  birth_date         birth_city  \\\n",
              "0    Individual  Jacobus Henricus van 't Hoff  1852-08-30          Rotterdam   \n",
              "1    Individual               Sully Prudhomme  1839-03-16              Paris   \n",
              "2    Individual        Emil Adolf von Behring  1854-03-15  Hansdorf (Lawice)   \n",
              "3    Individual             Jean Henry Dunant  1828-05-08             Geneva   \n",
              "4    Individual                Frédéric Passy  1822-05-20              Paris   \n",
              "\n",
              "      birth_country   sex   organization_name organization_city  \\\n",
              "0       Netherlands  Male   Berlin University            Berlin   \n",
              "1            France  Male                 NaN               NaN   \n",
              "2  Prussia (Poland)  Male  Marburg University           Marburg   \n",
              "3       Switzerland  Male                 NaN               NaN   \n",
              "4            France  Male                 NaN               NaN   \n",
              "\n",
              "  organization_country  death_date death_city death_country decade  \n",
              "0              Germany  1911-03-01     Berlin       Germany   1900  \n",
              "1                  NaN  1907-09-07   Châtenay        France   1900  \n",
              "2              Germany  1917-03-31    Marburg       Germany   1900  \n",
              "3                  NaN  1910-10-30     Heiden   Switzerland   1900  \n",
              "4                  NaN  1912-06-12      Paris        France   1900  "
            ]
          },
          "execution_count": 14,
          "metadata": {},
          "output_type": "execute_result"
        }
      ],
      "source": [
        "df.head()"
      ]
    },
    {
      "cell_type": "markdown",
      "id": "540d1bee",
      "metadata": {},
      "source": [
        "Vencedores repetidos"
      ]
    },
    {
      "cell_type": "code",
      "execution_count": 15,
      "id": "bbc70f78-6a53-4287-a518-87bb96ddca2a",
      "metadata": {
        "executionCancelledAt": null,
        "executionTime": 51,
        "id": "bbc70f78-6a53-4287-a518-87bb96ddca2a",
        "lastExecutedAt": 1735415691203,
        "lastExecutedByKernel": "38b08a09-0f17-4d0a-b102-f717b56190c1",
        "lastScheduledRunId": null,
        "lastSuccessfullyExecutedCode": "repeat_list = df.value_counts('full_name')[df.value_counts('full_name') >= 2].index\nrepeat_list = list(repeat_list)\nrepeat_list",
        "outputId": "526db348-b04d-4502-b929-5b6f61a9d2d8",
        "outputsMetadata": {
          "0": {
            "height": 500,
            "tableState": {
              "quickFilterText": ""
            },
            "type": "dataFrame"
          }
        }
      },
      "outputs": [
        {
          "data": {
            "text/plain": [
              "['Comité international de la Croix Rouge (International Committee of the Red Cross)',\n",
              " 'Office of the United Nations High Commissioner for Refugees (UNHCR)',\n",
              " 'Frederick Sanger',\n",
              " 'Linus Carl Pauling',\n",
              " 'John Bardeen',\n",
              " 'Marie Curie, née Sklodowska']"
            ]
          },
          "execution_count": 15,
          "metadata": {},
          "output_type": "execute_result"
        }
      ],
      "source": [
        "repeat_list = df.value_counts('full_name')[df.value_counts('full_name') >= 2].index\n",
        "repeat_list = list(repeat_list)\n",
        "repeat_list"
      ]
    }
  ],
  "metadata": {
    "colab": {
      "provenance": []
    },
    "editor": "DataCamp Workspace",
    "kernelspec": {
      "display_name": "base",
      "language": "python",
      "name": "python3"
    },
    "language_info": {
      "codemirror_mode": {
        "name": "ipython",
        "version": 3
      },
      "file_extension": ".py",
      "mimetype": "text/x-python",
      "name": "python",
      "nbconvert_exporter": "python",
      "pygments_lexer": "ipython3",
      "version": "3.11.7"
    }
  },
  "nbformat": 4,
  "nbformat_minor": 5
}
